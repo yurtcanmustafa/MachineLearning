{
  "nbformat": 4,
  "nbformat_minor": 0,
  "metadata": {
    "colab": {
      "provenance": [],
      "authorship_tag": "ABX9TyOUxdoK/v/AKNAyVqFjvz/l",
      "include_colab_link": true
    },
    "kernelspec": {
      "name": "python3",
      "display_name": "Python 3"
    },
    "language_info": {
      "name": "python"
    }
  },
  "cells": [
    {
      "cell_type": "markdown",
      "metadata": {
        "id": "view-in-github",
        "colab_type": "text"
      },
      "source": [
        "<a href=\"https://colab.research.google.com/github/yurtcanmustafa/MachineLearning/blob/main/Miuul_ML2.ipynb\" target=\"_parent\"><img src=\"https://colab.research.google.com/assets/colab-badge.svg\" alt=\"Open In Colab\"/></a>"
      ]
    },
    {
      "cell_type": "code",
      "execution_count": 1,
      "metadata": {
        "id": "4gOkMfFpnyRw"
      },
      "outputs": [],
      "source": [
        "import numpy as np\n",
        "import pandas as pd\n",
        "import matplotlib.pyplot as plt\n",
        "import seaborn as sns\n",
        "\n",
        "pd.set_option('display.float_format', lambda x: '%.2f' % x)\n",
        "\n",
        "from sklearn.linear_model import LinearRegression\n",
        "from sklearn.metrics import mean_squared_error, mean_absolute_error\n",
        "from sklearn.model_selection import train_test_split, cross_val_score"
      ]
    },
    {
      "cell_type": "code",
      "source": [
        "df = pd.read_csv(\"/content/advertising.csv\")"
      ],
      "metadata": {
        "id": "J766ILXFoASo"
      },
      "execution_count": 2,
      "outputs": []
    },
    {
      "cell_type": "code",
      "source": [
        "X = df.drop(\"sales\", axis=1)\n",
        "y = df[[\"sales\"]]"
      ],
      "metadata": {
        "id": "7IfI_iPMoIEa"
      },
      "execution_count": 3,
      "outputs": []
    },
    {
      "cell_type": "code",
      "source": [
        "X_train, X_test, y_train, y_test = train_test_split(X, y, test_size=0.20, random_state=1)"
      ],
      "metadata": {
        "id": "Vfs1B2Oqozjn"
      },
      "execution_count": 4,
      "outputs": []
    },
    {
      "cell_type": "code",
      "source": [
        "y_test.shape"
      ],
      "metadata": {
        "colab": {
          "base_uri": "https://localhost:8080/"
        },
        "id": "EHHgijEwpOC-",
        "outputId": "3e9f34cd-35a0-4ac9-8981-c017ef3ec3d8"
      },
      "execution_count": 5,
      "outputs": [
        {
          "output_type": "execute_result",
          "data": {
            "text/plain": [
              "(40, 1)"
            ]
          },
          "metadata": {},
          "execution_count": 5
        }
      ]
    },
    {
      "cell_type": "code",
      "source": [
        "y_train.shape"
      ],
      "metadata": {
        "colab": {
          "base_uri": "https://localhost:8080/"
        },
        "id": "A2zioCx0pS2R",
        "outputId": "3f3064a5-27e9-438e-a1dc-21f52f3cd540"
      },
      "execution_count": 6,
      "outputs": [
        {
          "output_type": "execute_result",
          "data": {
            "text/plain": [
              "(160, 1)"
            ]
          },
          "metadata": {},
          "execution_count": 6
        }
      ]
    },
    {
      "cell_type": "code",
      "source": [
        "X_test.shape"
      ],
      "metadata": {
        "colab": {
          "base_uri": "https://localhost:8080/"
        },
        "id": "8QdCi_V_rNJg",
        "outputId": "c76446d7-86b9-436f-f89c-082e29c560fd"
      },
      "execution_count": 10,
      "outputs": [
        {
          "output_type": "execute_result",
          "data": {
            "text/plain": [
              "(40, 3)"
            ]
          },
          "metadata": {},
          "execution_count": 10
        }
      ]
    },
    {
      "cell_type": "code",
      "source": [
        "X_train.shape"
      ],
      "metadata": {
        "colab": {
          "base_uri": "https://localhost:8080/"
        },
        "id": "euX6N86ErM7c",
        "outputId": "60d81660-e860-471d-ab58-cb2a58984c7c"
      },
      "execution_count": 11,
      "outputs": [
        {
          "output_type": "execute_result",
          "data": {
            "text/plain": [
              "(160, 3)"
            ]
          },
          "metadata": {},
          "execution_count": 11
        }
      ]
    },
    {
      "cell_type": "code",
      "source": [
        "reg_model = LinearRegression().fit(X_train, y_train)\n"
      ],
      "metadata": {
        "id": "fp8-vs7bpV0i"
      },
      "execution_count": 7,
      "outputs": []
    },
    {
      "cell_type": "code",
      "source": [
        "reg_model.intercept_[0]"
      ],
      "metadata": {
        "colab": {
          "base_uri": "https://localhost:8080/"
        },
        "id": "7QzTai5qraRx",
        "outputId": "be8780f7-c59e-4041-8258-435dbcd6a064"
      },
      "execution_count": 12,
      "outputs": [
        {
          "output_type": "execute_result",
          "data": {
            "text/plain": [
              "2.907947020816433"
            ]
          },
          "metadata": {},
          "execution_count": 12
        }
      ]
    },
    {
      "cell_type": "code",
      "source": [
        "reg_model.coef_"
      ],
      "metadata": {
        "colab": {
          "base_uri": "https://localhost:8080/"
        },
        "id": "whvnyN0irmIu",
        "outputId": "ca16313a-e8f5-44fc-a909-5c8c0da9ad92"
      },
      "execution_count": 13,
      "outputs": [
        {
          "output_type": "execute_result",
          "data": {
            "text/plain": [
              "array([[0.0468431 , 0.17854434, 0.00258619]])"
            ]
          },
          "metadata": {},
          "execution_count": 13
        }
      ]
    },
    {
      "cell_type": "markdown",
      "source": [
        "###Prediction"
      ],
      "metadata": {
        "id": "zMR_hd7Vrz3C"
      }
    },
    {
      "cell_type": "code",
      "source": [
        "yeni_veri = [[30], [10], [40]]\n",
        "yeni_veri = pd.DataFrame(yeni_veri).T"
      ],
      "metadata": {
        "id": "HfSKA4xqryeK"
      },
      "execution_count": 14,
      "outputs": []
    },
    {
      "cell_type": "code",
      "source": [
        "yeni_veri"
      ],
      "metadata": {
        "colab": {
          "base_uri": "https://localhost:8080/",
          "height": 81
        },
        "id": "ioe7pwlys74j",
        "outputId": "2d8f16f6-52d0-444c-eb09-a2443042df7d"
      },
      "execution_count": 15,
      "outputs": [
        {
          "output_type": "execute_result",
          "data": {
            "text/plain": [
              "    0   1   2\n",
              "0  30  10  40"
            ],
            "text/html": [
              "\n",
              "  <div id=\"df-c33bc7a1-bca9-4ad8-90df-7b3e32bd6ebc\">\n",
              "    <div class=\"colab-df-container\">\n",
              "      <div>\n",
              "<style scoped>\n",
              "    .dataframe tbody tr th:only-of-type {\n",
              "        vertical-align: middle;\n",
              "    }\n",
              "\n",
              "    .dataframe tbody tr th {\n",
              "        vertical-align: top;\n",
              "    }\n",
              "\n",
              "    .dataframe thead th {\n",
              "        text-align: right;\n",
              "    }\n",
              "</style>\n",
              "<table border=\"1\" class=\"dataframe\">\n",
              "  <thead>\n",
              "    <tr style=\"text-align: right;\">\n",
              "      <th></th>\n",
              "      <th>0</th>\n",
              "      <th>1</th>\n",
              "      <th>2</th>\n",
              "    </tr>\n",
              "  </thead>\n",
              "  <tbody>\n",
              "    <tr>\n",
              "      <th>0</th>\n",
              "      <td>30</td>\n",
              "      <td>10</td>\n",
              "      <td>40</td>\n",
              "    </tr>\n",
              "  </tbody>\n",
              "</table>\n",
              "</div>\n",
              "      <button class=\"colab-df-convert\" onclick=\"convertToInteractive('df-c33bc7a1-bca9-4ad8-90df-7b3e32bd6ebc')\"\n",
              "              title=\"Convert this dataframe to an interactive table.\"\n",
              "              style=\"display:none;\">\n",
              "        \n",
              "  <svg xmlns=\"http://www.w3.org/2000/svg\" height=\"24px\"viewBox=\"0 0 24 24\"\n",
              "       width=\"24px\">\n",
              "    <path d=\"M0 0h24v24H0V0z\" fill=\"none\"/>\n",
              "    <path d=\"M18.56 5.44l.94 2.06.94-2.06 2.06-.94-2.06-.94-.94-2.06-.94 2.06-2.06.94zm-11 1L8.5 8.5l.94-2.06 2.06-.94-2.06-.94L8.5 2.5l-.94 2.06-2.06.94zm10 10l.94 2.06.94-2.06 2.06-.94-2.06-.94-.94-2.06-.94 2.06-2.06.94z\"/><path d=\"M17.41 7.96l-1.37-1.37c-.4-.4-.92-.59-1.43-.59-.52 0-1.04.2-1.43.59L10.3 9.45l-7.72 7.72c-.78.78-.78 2.05 0 2.83L4 21.41c.39.39.9.59 1.41.59.51 0 1.02-.2 1.41-.59l7.78-7.78 2.81-2.81c.8-.78.8-2.07 0-2.86zM5.41 20L4 18.59l7.72-7.72 1.47 1.35L5.41 20z\"/>\n",
              "  </svg>\n",
              "      </button>\n",
              "      \n",
              "  <style>\n",
              "    .colab-df-container {\n",
              "      display:flex;\n",
              "      flex-wrap:wrap;\n",
              "      gap: 12px;\n",
              "    }\n",
              "\n",
              "    .colab-df-convert {\n",
              "      background-color: #E8F0FE;\n",
              "      border: none;\n",
              "      border-radius: 50%;\n",
              "      cursor: pointer;\n",
              "      display: none;\n",
              "      fill: #1967D2;\n",
              "      height: 32px;\n",
              "      padding: 0 0 0 0;\n",
              "      width: 32px;\n",
              "    }\n",
              "\n",
              "    .colab-df-convert:hover {\n",
              "      background-color: #E2EBFA;\n",
              "      box-shadow: 0px 1px 2px rgba(60, 64, 67, 0.3), 0px 1px 3px 1px rgba(60, 64, 67, 0.15);\n",
              "      fill: #174EA6;\n",
              "    }\n",
              "\n",
              "    [theme=dark] .colab-df-convert {\n",
              "      background-color: #3B4455;\n",
              "      fill: #D2E3FC;\n",
              "    }\n",
              "\n",
              "    [theme=dark] .colab-df-convert:hover {\n",
              "      background-color: #434B5C;\n",
              "      box-shadow: 0px 1px 3px 1px rgba(0, 0, 0, 0.15);\n",
              "      filter: drop-shadow(0px 1px 2px rgba(0, 0, 0, 0.3));\n",
              "      fill: #FFFFFF;\n",
              "    }\n",
              "  </style>\n",
              "\n",
              "      <script>\n",
              "        const buttonEl =\n",
              "          document.querySelector('#df-c33bc7a1-bca9-4ad8-90df-7b3e32bd6ebc button.colab-df-convert');\n",
              "        buttonEl.style.display =\n",
              "          google.colab.kernel.accessAllowed ? 'block' : 'none';\n",
              "\n",
              "        async function convertToInteractive(key) {\n",
              "          const element = document.querySelector('#df-c33bc7a1-bca9-4ad8-90df-7b3e32bd6ebc');\n",
              "          const dataTable =\n",
              "            await google.colab.kernel.invokeFunction('convertToInteractive',\n",
              "                                                     [key], {});\n",
              "          if (!dataTable) return;\n",
              "\n",
              "          const docLinkHtml = 'Like what you see? Visit the ' +\n",
              "            '<a target=\"_blank\" href=https://colab.research.google.com/notebooks/data_table.ipynb>data table notebook</a>'\n",
              "            + ' to learn more about interactive tables.';\n",
              "          element.innerHTML = '';\n",
              "          dataTable['output_type'] = 'display_data';\n",
              "          await google.colab.output.renderOutput(dataTable, element);\n",
              "          const docLink = document.createElement('div');\n",
              "          docLink.innerHTML = docLinkHtml;\n",
              "          element.appendChild(docLink);\n",
              "        }\n",
              "      </script>\n",
              "    </div>\n",
              "  </div>\n",
              "  "
            ]
          },
          "metadata": {},
          "execution_count": 15
        }
      ]
    },
    {
      "cell_type": "code",
      "source": [
        "reg_model.predict(yeni_veri)"
      ],
      "metadata": {
        "colab": {
          "base_uri": "https://localhost:8080/"
        },
        "id": "gV4Q9SBis-XA",
        "outputId": "8ad35392-7475-4c94-e7e0-51c53f19b7b7"
      },
      "execution_count": 16,
      "outputs": [
        {
          "output_type": "stream",
          "name": "stderr",
          "text": [
            "/usr/local/lib/python3.8/dist-packages/sklearn/base.py:450: UserWarning: X does not have valid feature names, but LinearRegression was fitted with feature names\n",
            "  warnings.warn(\n"
          ]
        },
        {
          "output_type": "execute_result",
          "data": {
            "text/plain": [
              "array([[6.202131]])"
            ]
          },
          "metadata": {},
          "execution_count": 16
        }
      ]
    },
    {
      "cell_type": "markdown",
      "source": [
        "###Prediction Success"
      ],
      "metadata": {
        "id": "gprvJfPztcDi"
      }
    },
    {
      "cell_type": "code",
      "source": [
        "### Train RMSE\n",
        "y_pred = reg_model.predict(X_train)\n",
        "np.sqrt(mean_squared_error(y_train, y_pred))"
      ],
      "metadata": {
        "colab": {
          "base_uri": "https://localhost:8080/"
        },
        "id": "uKpE5ekItYmg",
        "outputId": "a91518fb-7bd3-46d9-90f7-7525ebe9b754"
      },
      "execution_count": 18,
      "outputs": [
        {
          "output_type": "execute_result",
          "data": {
            "text/plain": [
              "1.736902590147092"
            ]
          },
          "metadata": {},
          "execution_count": 18
        }
      ]
    },
    {
      "cell_type": "code",
      "source": [
        "### Train R2\n",
        "reg_model.score(X_train, y_train)"
      ],
      "metadata": {
        "colab": {
          "base_uri": "https://localhost:8080/"
        },
        "id": "ms23kigVuQVx",
        "outputId": "60eff1d3-6e92-4f09-f227-3eeaee7ffd49"
      },
      "execution_count": 19,
      "outputs": [
        {
          "output_type": "execute_result",
          "data": {
            "text/plain": [
              "0.8959372632325174"
            ]
          },
          "metadata": {},
          "execution_count": 19
        }
      ]
    },
    {
      "cell_type": "code",
      "source": [
        "### Test RMSE\n",
        "y_pred = reg_model.predict(X_test)\n",
        "np.sqrt(mean_squared_error(y_test, y_pred))"
      ],
      "metadata": {
        "colab": {
          "base_uri": "https://localhost:8080/"
        },
        "id": "Q8hEFgl7uqnV",
        "outputId": "85012fbe-1fce-42e5-9c42-5ab76075b729"
      },
      "execution_count": 20,
      "outputs": [
        {
          "output_type": "execute_result",
          "data": {
            "text/plain": [
              "1.4113417558581587"
            ]
          },
          "metadata": {},
          "execution_count": 20
        }
      ]
    },
    {
      "cell_type": "code",
      "source": [
        "### Test R2\n",
        "reg_model.score(X_test, y_test)"
      ],
      "metadata": {
        "colab": {
          "base_uri": "https://localhost:8080/"
        },
        "id": "Qa8F-StdvbzO",
        "outputId": "71e80961-1b67-44bc-9a0b-35ef93bcf075"
      },
      "execution_count": 21,
      "outputs": [
        {
          "output_type": "execute_result",
          "data": {
            "text/plain": [
              "0.8927605914615384"
            ]
          },
          "metadata": {},
          "execution_count": 21
        }
      ]
    },
    {
      "cell_type": "code",
      "source": [
        "### 10 Fold Cross Validation RMSE\n",
        "np.mean(np.sqrt(-cross_val_score(reg_model,\n",
        "                                 X,\n",
        "                                 y,\n",
        "                                 cv=10,\n",
        "                                 scoring=\"neg_mean_squared_error\")))"
      ],
      "metadata": {
        "colab": {
          "base_uri": "https://localhost:8080/"
        },
        "id": "VBO3pJkwvkmb",
        "outputId": "c9f72c8f-6496-452c-813a-7c54e7c5b13a"
      },
      "execution_count": 22,
      "outputs": [
        {
          "output_type": "execute_result",
          "data": {
            "text/plain": [
              "1.6913531708051797"
            ]
          },
          "metadata": {},
          "execution_count": 22
        }
      ]
    },
    {
      "cell_type": "code",
      "source": [
        "### 5 Fold Cross Validation RMSE\n",
        "np.mean(np.sqrt(-cross_val_score(reg_model,\n",
        "                                 X,\n",
        "                                 y,\n",
        "                                 cv=5,\n",
        "                                 scoring=\"neg_mean_squared_error\")))"
      ],
      "metadata": {
        "colab": {
          "base_uri": "https://localhost:8080/"
        },
        "id": "xJh1HSoSwWUM",
        "outputId": "620da3c0-c6c5-4461-e550-6bcfe0d4d814"
      },
      "execution_count": 23,
      "outputs": [
        {
          "output_type": "execute_result",
          "data": {
            "text/plain": [
              "1.7175247278732086"
            ]
          },
          "metadata": {},
          "execution_count": 23
        }
      ]
    },
    {
      "cell_type": "markdown",
      "source": [
        "Linear Regression with Gradient Descent "
      ],
      "metadata": {
        "id": "5Hk7dDr2-qGL"
      }
    },
    {
      "cell_type": "code",
      "source": [
        "# Cost function MSE\n",
        "def cost_function(Y, b, w, X):\n",
        "    m = len(Y)\n",
        "    sse = 0\n",
        "\n",
        "    for i in range(0, m):\n",
        "        y_hat = b + w * X[i]\n",
        "        y = Y[i]\n",
        "        sse += (y_hat - y) ** 2\n",
        "\n",
        "    mse = sse / m\n",
        "    return mse"
      ],
      "metadata": {
        "id": "wGGngpAR-QMj"
      },
      "execution_count": 24,
      "outputs": []
    },
    {
      "cell_type": "code",
      "source": [
        "def update_weights(Y, b, w, X, learning_rate):\n",
        "    m = len(Y)\n",
        "    b_deriv_sum = 0\n",
        "    w_deriv_sum = 0\n",
        "    for i in range(0, m):\n",
        "        y_hat = b + w * X[i]\n",
        "        y = Y[i]\n",
        "        b_deriv_sum += (y_hat - y)\n",
        "        w_deriv_sum += (y_hat - y) * X[i]\n",
        "    new_b = b - (learning_rate * 1 / m * b_deriv_sum)\n",
        "    new_w = w - (learning_rate * 1 / m * w_deriv_sum)\n",
        "    return new_b, new_w"
      ],
      "metadata": {
        "id": "TRGaLsWn-fDF"
      },
      "execution_count": 25,
      "outputs": []
    },
    {
      "cell_type": "code",
      "source": [
        "def train(Y, initial_b, initial_w, X, learning_rate, num_iters):\n",
        "\n",
        "    print(\"Starting gradient descent at b = {0}, w = {1}, mse = {2}\".format(initial_b, initial_w,\n",
        "                                                                   cost_function(Y, initial_b, initial_w, X)))\n",
        "\n",
        "    b = initial_b\n",
        "    w = initial_w\n",
        "    cost_history = []\n",
        "\n",
        "    for i in range(num_iters):\n",
        "        b, w = update_weights(Y, b, w, X, learning_rate)\n",
        "        mse = cost_function(Y, b, w, X)\n",
        "        cost_history.append(mse)\n",
        "\n",
        "\n",
        "        if i % 100 == 0:\n",
        "            print(\"iter={:d}    b={:.2f}    w={:.4f}    mse={:.4}\".format(i, b, w, mse))\n",
        "\n",
        "\n",
        "    print(\"After {0} iterations b = {1}, w = {2}, mse = {3}\".format(num_iters, b, w, cost_function(Y, b, w, X)))\n",
        "    return cost_history, b, w"
      ],
      "metadata": {
        "id": "PdYizdNF-gJs"
      },
      "execution_count": 26,
      "outputs": []
    },
    {
      "cell_type": "code",
      "source": [
        "df = pd.read_csv(\"advertising.csv\")\n",
        "X = df[\"radio\"]\n",
        "Y = df[\"sales\"]"
      ],
      "metadata": {
        "id": "fWX1gYz3_x-0"
      },
      "execution_count": 31,
      "outputs": []
    },
    {
      "cell_type": "code",
      "source": [
        "learning_rate = 0.001\n",
        "initial_b = 0.001\n",
        "initial_w = 0.001\n",
        "num_iters = 10000"
      ],
      "metadata": {
        "id": "GLZJEHpb_62s"
      },
      "execution_count": 36,
      "outputs": []
    },
    {
      "cell_type": "code",
      "source": [
        "cost_history, b, w = train(Y, initial_b, initial_w, X, learning_rate, num_iters)"
      ],
      "metadata": {
        "colab": {
          "base_uri": "https://localhost:8080/"
        },
        "id": "082hJbHqAgG9",
        "outputId": "20ab05aa-9937-4158-9b86-feaaa70f58f3"
      },
      "execution_count": 37,
      "outputs": [
        {
          "output_type": "stream",
          "name": "stdout",
          "text": [
            "Starting gradient descent at b = 0.001, w = 0.001, mse = 222.9477491673001\n",
            "iter=0    b=0.01    w=0.3708    mse=53.25\n",
            "iter=100    b=0.28    w=0.4788    mse=41.6\n",
            "iter=200    b=0.54    w=0.4709    mse=40.29\n",
            "iter=300    b=0.79    w=0.4633    mse=39.04\n",
            "iter=400    b=1.03    w=0.4559    mse=37.87\n",
            "iter=500    b=1.27    w=0.4487    mse=36.76\n",
            "iter=600    b=1.49    w=0.4417    mse=35.72\n",
            "iter=700    b=1.72    w=0.4349    mse=34.73\n",
            "iter=800    b=1.93    w=0.4283    mse=33.8\n",
            "iter=900    b=2.14    w=0.4219    mse=32.92\n",
            "iter=1000    b=2.35    w=0.4157    mse=32.09\n",
            "iter=1100    b=2.54    w=0.4096    mse=31.3\n",
            "iter=1200    b=2.74    w=0.4037    mse=30.56\n",
            "iter=1300    b=2.92    w=0.3980    mse=29.87\n",
            "iter=1400    b=3.10    w=0.3925    mse=29.21\n",
            "iter=1500    b=3.28    w=0.3871    mse=28.58\n",
            "iter=1600    b=3.45    w=0.3818    mse=28.0\n",
            "iter=1700    b=3.62    w=0.3767    mse=27.44\n",
            "iter=1800    b=3.78    w=0.3718    mse=26.92\n",
            "iter=1900    b=3.94    w=0.3670    mse=26.42\n",
            "iter=2000    b=4.09    w=0.3623    mse=25.96\n",
            "iter=2100    b=4.24    w=0.3578    mse=25.52\n",
            "iter=2200    b=4.38    w=0.3534    mse=25.1\n",
            "iter=2300    b=4.52    w=0.3491    mse=24.71\n",
            "iter=2400    b=4.66    w=0.3449    mse=24.34\n",
            "iter=2500    b=4.79    w=0.3409    mse=23.99\n",
            "iter=2600    b=4.92    w=0.3369    mse=23.66\n",
            "iter=2700    b=5.04    w=0.3331    mse=23.35\n",
            "iter=2800    b=5.16    w=0.3294    mse=23.05\n",
            "iter=2900    b=5.28    w=0.3258    mse=22.77\n",
            "iter=3000    b=5.40    w=0.3223    mse=22.51\n",
            "iter=3100    b=5.51    w=0.3189    mse=22.26\n",
            "iter=3200    b=5.62    w=0.3156    mse=22.03\n",
            "iter=3300    b=5.72    w=0.3124    mse=21.81\n",
            "iter=3400    b=5.82    w=0.3093    mse=21.6\n",
            "iter=3500    b=5.92    w=0.3062    mse=21.41\n",
            "iter=3600    b=6.02    w=0.3033    mse=21.22\n",
            "iter=3700    b=6.11    w=0.3004    mse=21.05\n",
            "iter=3800    b=6.20    w=0.2976    mse=20.88\n",
            "iter=3900    b=6.29    w=0.2949    mse=20.72\n",
            "iter=4000    b=6.38    w=0.2923    mse=20.58\n",
            "iter=4100    b=6.46    w=0.2898    mse=20.44\n",
            "iter=4200    b=6.54    w=0.2873    mse=20.31\n",
            "iter=4300    b=6.62    w=0.2849    mse=20.18\n",
            "iter=4400    b=6.70    w=0.2825    mse=20.06\n",
            "iter=4500    b=6.77    w=0.2803    mse=19.95\n",
            "iter=4600    b=6.84    w=0.2780    mse=19.85\n",
            "iter=4700    b=6.91    w=0.2759    mse=19.75\n",
            "iter=4800    b=6.98    w=0.2738    mse=19.66\n",
            "iter=4900    b=7.05    w=0.2718    mse=19.57\n",
            "iter=5000    b=7.11    w=0.2698    mse=19.49\n",
            "iter=5100    b=7.17    w=0.2679    mse=19.41\n",
            "iter=5200    b=7.23    w=0.2660    mse=19.34\n",
            "iter=5300    b=7.29    w=0.2642    mse=19.27\n",
            "iter=5400    b=7.35    w=0.2625    mse=19.2\n",
            "iter=5500    b=7.41    w=0.2608    mse=19.14\n",
            "iter=5600    b=7.46    w=0.2591    mse=19.08\n",
            "iter=5700    b=7.51    w=0.2575    mse=19.02\n",
            "iter=5800    b=7.56    w=0.2560    mse=18.97\n",
            "iter=5900    b=7.61    w=0.2544    mse=18.92\n",
            "iter=6000    b=7.66    w=0.2530    mse=18.88\n",
            "iter=6100    b=7.71    w=0.2515    mse=18.83\n",
            "iter=6200    b=7.75    w=0.2501    mse=18.79\n",
            "iter=6300    b=7.80    w=0.2488    mse=18.75\n",
            "iter=6400    b=7.84    w=0.2475    mse=18.72\n",
            "iter=6500    b=7.88    w=0.2462    mse=18.68\n",
            "iter=6600    b=7.92    w=0.2450    mse=18.65\n",
            "iter=6700    b=7.96    w=0.2437    mse=18.62\n",
            "iter=6800    b=8.00    w=0.2426    mse=18.59\n",
            "iter=6900    b=8.04    w=0.2414    mse=18.56\n",
            "iter=7000    b=8.08    w=0.2403    mse=18.53\n",
            "iter=7100    b=8.11    w=0.2393    mse=18.51\n",
            "iter=7200    b=8.14    w=0.2382    mse=18.49\n",
            "iter=7300    b=8.18    w=0.2372    mse=18.46\n",
            "iter=7400    b=8.21    w=0.2362    mse=18.44\n",
            "iter=7500    b=8.24    w=0.2353    mse=18.42\n",
            "iter=7600    b=8.27    w=0.2343    mse=18.4\n",
            "iter=7700    b=8.30    w=0.2334    mse=18.39\n",
            "iter=7800    b=8.33    w=0.2325    mse=18.37\n",
            "iter=7900    b=8.36    w=0.2317    mse=18.35\n",
            "iter=8000    b=8.38    w=0.2309    mse=18.34\n",
            "iter=8100    b=8.41    w=0.2301    mse=18.33\n",
            "iter=8200    b=8.44    w=0.2293    mse=18.31\n",
            "iter=8300    b=8.46    w=0.2285    mse=18.3\n",
            "iter=8400    b=8.49    w=0.2278    mse=18.29\n",
            "iter=8500    b=8.51    w=0.2271    mse=18.28\n",
            "iter=8600    b=8.53    w=0.2264    mse=18.27\n",
            "iter=8700    b=8.55    w=0.2257    mse=18.26\n",
            "iter=8800    b=8.58    w=0.2250    mse=18.25\n",
            "iter=8900    b=8.60    w=0.2244    mse=18.24\n",
            "iter=9000    b=8.62    w=0.2238    mse=18.23\n",
            "iter=9100    b=8.64    w=0.2232    mse=18.22\n",
            "iter=9200    b=8.66    w=0.2226    mse=18.22\n",
            "iter=9300    b=8.67    w=0.2220    mse=18.21\n",
            "iter=9400    b=8.69    w=0.2214    mse=18.2\n",
            "iter=9500    b=8.71    w=0.2209    mse=18.2\n",
            "iter=9600    b=8.73    w=0.2204    mse=18.19\n",
            "iter=9700    b=8.74    w=0.2199    mse=18.19\n",
            "iter=9800    b=8.76    w=0.2194    mse=18.18\n",
            "iter=9900    b=8.78    w=0.2189    mse=18.18\n",
            "After 10000 iterations b = 8.79062282139543, w = 0.2184390657183005, mse = 18.170680975262957\n"
          ]
        }
      ]
    }
  ]
}